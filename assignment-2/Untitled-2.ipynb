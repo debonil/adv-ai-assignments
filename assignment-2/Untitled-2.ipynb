{
 "cells": [
  {
   "cell_type": "code",
   "execution_count": 1,
   "metadata": {},
   "outputs": [],
   "source": [
    "import numpy as np\n",
    "import matplotlib.pyplot as plt\n",
    "import pandas as pd\n",
    "import random\n",
    "import string"
   ]
  },
  {
   "cell_type": "code",
   "execution_count": 2,
   "metadata": {},
   "outputs": [
    {
     "name": "stdout",
     "output_type": "stream",
     "text": [
      "Max no of states: 5\n",
      "0.29 0.14 0.14 0.29 0.14\n",
      "0.25 0.00 0.25 0.25 0.25\n",
      "0.17 0.17 0.33 0.17 0.17\n",
      "0.00 0.17 0.17 0.17 0.50\n",
      "0.43 0.14 0.14 0.14 0.14\n"
     ]
    }
   ],
   "source": [
    "def gen_transition_matrix(transitions,n):\n",
    "    M = np.zeros((5,5))\n",
    "    \n",
    "    \n",
    "    for (i,j) in zip(transitions,transitions[1:]):\n",
    "        M[i][j] += 1\n",
    "        #print(M[i][j])\n",
    "    #now convert to probabilities:\n",
    "    for row in M:\n",
    "        s = sum(row)\n",
    "        \n",
    "        if s > 0:\n",
    "            row[:] = [f/s for f in row]\n",
    "    return M\n",
    "\n",
    "#test:\n",
    "\n",
    "#t = [0,0,1,0,2,0,3,0,4,1,1,2,1,3,1,4,2,2,3,2,4,3,3,4,4,0]\n",
    "t = [0,0,1,0,0,2,0,3,4,0,3,4,0,4,1,2,2,1,3,1,4,2,2,3,2,4,3,3,4,4,0]\n",
    "n = max(t)+1\n",
    "print(f\"Max no of states: {n}\")\n",
    "m = gen_transition_matrix(t,n)\n",
    "for row in m: print(' '.join('{0:.2f}'.format(x) for x in row))"
   ]
  },
  {
   "cell_type": "code",
   "execution_count": 3,
   "metadata": {},
   "outputs": [
    {
     "name": "stdout",
     "output_type": "stream",
     "text": [
      "['G', 'G', 'B', 'B', 'R', 'R', 'G', 'R', 'G', 'G', 'R', 'G', 'G', 'R', 'B', 'B', 'B', 'B', 'G', 'B', 'G', 'R', 'G', 'G', 'B', 'R', 'R', 'G'] \n",
      " ['R', 'R', 'G', 'B', 'B', 'G', 'B', 'R', 'B', 'R', 'B', 'R', 'R', 'G', 'B', 'G', 'R', 'B', 'B', 'R', 'G', 'B', 'G', 'R'] \n",
      " ['B', 'G', 'R', 'B', 'B', 'B', 'B', 'B', 'R', 'B', 'R', 'R', 'B', 'B', 'G', 'R', 'B', 'B', 'G', 'G', 'G', 'G', 'R', 'B', 'R'] \n",
      "['R', 'R', 'B', 'G', 'R', 'R', 'B', 'R', 'B', 'B', 'B', 'G', 'B', 'G', 'R', 'G', 'G', 'R', 'B', 'B', 'B', 'B', 'R']\n",
      "['R', 'R', 'B', 'G', 'R', 'R', 'B', 'R', 'B', 'B', 'B', 'G', 'B', 'G', 'R', 'G', 'G', 'R', 'B', 'B', 'B', 'B', 'R']\n",
      "['B', 'G', 'G', 'G', 'B', 'R', 'G', 'R', 'G', 'R', 'G', 'B', 'B', 'B', 'B', 'R', 'R', 'B', 'G', 'R', 'G']\n"
     ]
    }
   ],
   "source": [
    "\n",
    "jar_1 =[]\n",
    "jar_2 =[]\n",
    "jar_3 =[]\n",
    "jar_4 =[]\n",
    "jar_5 =[]\n",
    "# 0 = RED, 1 = Green , 2=Blue\n",
    "'''def create_jar():\n",
    "    n= random.randint(20,30)\n",
    "    jar=[]\n",
    "    for count in range(n):\n",
    "        jar.append(random.randint(0,2))\n",
    "    return jar\n",
    " '''\n",
    "  \n",
    "jar_1 = [random.choice('RGB') for _ in range(random.randint(20,30))] \n",
    "jar_2 = [random.choice('RGB') for _ in range(random.randint(20,30))]\n",
    "jar_3 =[random.choice('RGB') for _ in range(random.randint(20,30))]\n",
    "jar_4=[random.choice('RGB') for _ in range(random.randint(20,30))]\n",
    "jar_5=[random.choice('RGB') for _ in range(random.randint(20,30))]\n",
    "print(f\"{jar_1} \\n {jar_2} \\n {jar_3} \\n{jar_4}\\n{jar_4}\\n{jar_5}\")"
   ]
  },
  {
   "cell_type": "code",
   "execution_count": 4,
   "metadata": {},
   "outputs": [
    {
     "name": "stdout",
     "output_type": "stream",
     "text": [
      "Probability :  P(R) :0.2857142857142857, P(G) :0.42857142857142855 , P(B) :0.2857142857142857\n",
      "Probability :  P(R) :0.375, P(G) :0.25 , P(B) :0.375\n",
      "Probability :  P(R) :0.28, P(G) :0.24 , P(B) :0.48\n",
      "Probability :  P(R) :0.34782608695652173, P(G) :0.21739130434782608 , P(B) :0.43478260869565216\n",
      "Probability :  P(R) :0.2857142857142857, P(G) :0.38095238095238093 , P(B) :0.3333333333333333\n",
      "[[0.28571429 0.42857143 0.28571429]\n",
      " [0.375      0.25       0.375     ]\n",
      " [0.28       0.24       0.48      ]\n",
      " [0.34782609 0.2173913  0.43478261]\n",
      " [0.28571429 0.38095238 0.33333333]]\n"
     ]
    }
   ],
   "source": [
    "B=np.zeros((5,3))\n",
    "#print(B)\n",
    "def count_prob(jar,i):\n",
    "   total = len(jar)\n",
    "   red= jar.count('R')\n",
    "   green= jar.count('G')\n",
    "   blue= jar.count('B')\n",
    "   probR = red/total\n",
    "   probG = green/total\n",
    "   probb =blue/total\n",
    "   B[i][0]=probR\n",
    "   B[i][1]=probG\n",
    "   B[i][2]=probb\n",
    "   print(f\"Probability :  P(R) :{probR}, P(G) :{probG} , P(B) :{probb}\")\n",
    "    \n",
    "count_prob(jar_1,0)\n",
    "count_prob(jar_2,1)\n",
    "count_prob(jar_3,2)\n",
    "count_prob(jar_4,3)\n",
    "count_prob(jar_5,4)\n",
    "print(B)"
   ]
  },
  {
   "cell_type": "code",
   "execution_count": 5,
   "metadata": {},
   "outputs": [
    {
     "name": "stdout",
     "output_type": "stream",
     "text": [
      "jar_4\n"
     ]
    }
   ],
   "source": [
    "#initial State\n",
    "states =['jar_1','jar_2','jar_3','jar_4','jar_5']\n",
    "initial_state_pi = random.choice(states)\n",
    "print(initial_state_pi)"
   ]
  },
  {
   "cell_type": "code",
   "execution_count": 35,
   "metadata": {},
   "outputs": [
    {
     "name": "stdout",
     "output_type": "stream",
     "text": [
      "[1, 0, 0, 1, 1]\n"
     ]
    }
   ],
   "source": [
    "O = [random.randrange(0,3) for _ in range(5)]\n",
    "print(O)"
   ]
  },
  {
   "cell_type": "code",
   "execution_count": null,
   "metadata": {},
   "outputs": [],
   "source": [
    "from re import T\n",
    "\n",
    "\n",
    "def forward(O, a, b, pi):\n",
    "    N = a.shape[0]\n",
    "    T = O.shape[0]\n",
    "    alpha = np.zeros((T,N))\n",
    "\n",
    "    alpha[0, :] = pi * b[:, O[0]]\n",
    "    for i in range(N):\n",
    "         alpha[0, i] = pi[i] * b[i, O[0]]\n",
    " \n",
    "    for t in range(1, O.shape[0]):\n",
    "        for j in range(a.shape[0]):\n",
    "            # Matrix Computation Steps\n",
    "            #                  ((1x2) . (1x2))      *     (1)\n",
    "            #                        (1)            *     (1)\n",
    "            alpha[t, j] = alpha[t - 1].dot(a[:, j]) * b[j, O[t]]\n",
    " \n",
    "    return alpha"
   ]
  }
 ],
 "metadata": {
  "kernelspec": {
   "display_name": "Python 3.10.7 64-bit",
   "language": "python",
   "name": "python3"
  },
  "language_info": {
   "codemirror_mode": {
    "name": "ipython",
    "version": 3
   },
   "file_extension": ".py",
   "mimetype": "text/x-python",
   "name": "python",
   "nbconvert_exporter": "python",
   "pygments_lexer": "ipython3",
   "version": "3.10.7"
  },
  "orig_nbformat": 4,
  "vscode": {
   "interpreter": {
    "hash": "c4ae7141c631147330982ab03a122191846cf83f5ea8efac7ef9984176873ce7"
   }
  }
 },
 "nbformat": 4,
 "nbformat_minor": 2
}
